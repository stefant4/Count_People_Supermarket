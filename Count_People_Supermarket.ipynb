{
 "cells": [
  {
   "cell_type": "markdown",
   "metadata": {},
   "source": [
    "# Setup"
   ]
  },
  {
   "cell_type": "code",
   "execution_count": 9,
   "metadata": {},
   "outputs": [],
   "source": [
    "import os\n",
    "HOME = os.getcwd()"
   ]
  },
  {
   "cell_type": "code",
   "execution_count": 10,
   "metadata": {},
   "outputs": [
    {
     "name": "stderr",
     "output_type": "stream",
     "text": [
      "DeprecationWarning: The `openvino.runtime` module is deprecated and will be removed in the 2026.0 release. Please replace `openvino.runtime` with `openvino`.\n"
     ]
    }
   ],
   "source": [
    "import openvino as ov\n",
    "import torch\n",
    "import torchvision\n",
    "\n",
    "TORCH_VERSION = \".\".join(torch.__version__.split(\".\")[:2])\n",
    "CUDA_VERSION = torch.__version__.split(\"+\")[-1]"
   ]
  },
  {
   "cell_type": "markdown",
   "metadata": {},
   "source": [
    "Install YoloV8"
   ]
  },
  {
   "cell_type": "code",
   "execution_count": 11,
   "metadata": {},
   "outputs": [
    {
     "name": "stdout",
     "output_type": "stream",
     "text": [
      "Ultralytics 8.3.40  Python-3.12.7 torch-2.5.1 CPU (11th Gen Intel Core(TM) i7-1165G7 2.80GHz)\n",
      "Setup complete  (8 CPUs, 15.7 GB RAM, 69.9/476.2 GB disk)\n"
     ]
    }
   ],
   "source": [
    "!pip install \"ultralytics<=8.3.40\"\n",
    "\n",
    "from IPython import display\n",
    "display.clear_output()\n",
    "\n",
    "import ultralytics\n",
    "ultralytics.checks()"
   ]
  },
  {
   "cell_type": "markdown",
   "metadata": {},
   "source": [
    "Install YoloV5"
   ]
  },
  {
   "cell_type": "code",
   "execution_count": 12,
   "metadata": {},
   "outputs": [],
   "source": [
    "%cd {HOME}\n",
    "!git clone https://github.com/ultralytics/yolov5\n",
    "\n",
    "%cd {HOME}/yolov5\n",
    "!pip install -r requirements.txt\n",
    "\n",
    "from IPython import display\n",
    "display.clear_output()"
   ]
  },
  {
   "cell_type": "code",
   "execution_count": 13,
   "metadata": {
    "vscode": {
     "languageId": "markdown"
    }
   },
   "outputs": [],
   "source": [
    "import detectron2"
   ]
  },
  {
   "cell_type": "code",
   "execution_count": 14,
   "metadata": {
    "vscode": {
     "languageId": "markdown"
    }
   },
   "outputs": [
    {
     "name": "stdout",
     "output_type": "stream",
     "text": [
      "supervision 0.25.1\n"
     ]
    }
   ],
   "source": [
    "from IPython import display\n",
    "display.clear_output()\n",
    "\n",
    "import supervision as sv\n",
    "print(\"supervision\", sv.__version__)"
   ]
  },
  {
   "cell_type": "code",
   "execution_count": 15,
   "metadata": {
    "vscode": {
     "languageId": "markdown"
    }
   },
   "outputs": [],
   "source": [
    "from IPython import display\n",
    "display.clear_output()"
   ]
  },
  {
   "cell_type": "code",
   "execution_count": 16,
   "metadata": {
    "vscode": {
     "languageId": "markdown"
    }
   },
   "outputs": [],
   "source": [
    "from supervision.assets import download_assets, VideoAssets\n",
    "from IPython import display\n",
    "\n",
    "\n",
    "download_assets(VideoAssets.MARKET_SQUARE)\n",
    "download_assets(VideoAssets.GROCERY_STORE)\n",
    "download_assets(VideoAssets.SUBWAY)\n",
    "\n",
    "\n",
    "display.clear_output()"
   ]
  },
  {
   "cell_type": "code",
   "execution_count": 19,
   "metadata": {
    "vscode": {
     "languageId": "markdown"
    }
   },
   "outputs": [
    {
     "data": {
      "text/plain": [
       "False"
      ]
     },
     "execution_count": 19,
     "metadata": {},
     "output_type": "execute_result"
    }
   ],
   "source": [
    "torch.cuda.is_available()"
   ]
  },
  {
   "cell_type": "markdown",
   "metadata": {},
   "source": [
    "# Shopping mall example"
   ]
  },
  {
   "cell_type": "code",
   "execution_count": 21,
   "metadata": {
    "vscode": {
     "languageId": "markdown"
    }
   },
   "outputs": [],
   "source": [
    "from ultralytics import YOLO\n",
    "\n",
    "model = YOLO('yolov8s.pt')"
   ]
  },
  {
   "cell_type": "code",
   "execution_count": 22,
   "metadata": {
    "vscode": {
     "languageId": "markdown"
    }
   },
   "outputs": [
    {
     "name": "stdout",
     "output_type": "stream",
     "text": [
      "\n",
      "0: 736x1280 1 person, 4 bottles, 1 chair, 1 tv, 2 refrigerators, 518.9ms\n",
      "Speed: 12.0ms preprocess, 518.9ms inference, 1.0ms postprocess per image at shape (1, 3, 736, 1280)\n",
      "\n",
      "0: 736x1280 1 person, 4 bottles, 1 chair, 1 tv, 2 refrigerators, 503.5ms\n",
      "Speed: 12.0ms preprocess, 503.5ms inference, 1.0ms postprocess per image at shape (1, 3, 736, 1280)\n",
      "\n",
      "0: 736x1280 1 person, 3 bottles, 1 chair, 2 tvs, 2 refrigerators, 397.8ms\n",
      "Speed: 9.0ms preprocess, 397.8ms inference, 1.0ms postprocess per image at shape (1, 3, 736, 1280)\n",
      "\n",
      "0: 736x1280 1 person, 3 bottles, 1 chair, 2 tvs, 2 refrigerators, 361.6ms\n",
      "Speed: 14.0ms preprocess, 361.6ms inference, 3.0ms postprocess per image at shape (1, 3, 736, 1280)\n",
      "\n",
      "0: 736x1280 1 person, 3 bottles, 1 chair, 2 refrigerators, 350.1ms\n",
      "Speed: 12.0ms preprocess, 350.1ms inference, 1.0ms postprocess per image at shape (1, 3, 736, 1280)\n",
      "\n",
      "0: 736x1280 1 person, 3 bottles, 1 chair, 1 tv, 2 refrigerators, 409.3ms\n",
      "Speed: 16.0ms preprocess, 409.3ms inference, 2.0ms postprocess per image at shape (1, 3, 736, 1280)\n",
      "\n",
      "0: 736x1280 1 person, 3 bottles, 1 chair, 1 tv, 2 refrigerators, 357.9ms\n",
      "Speed: 11.0ms preprocess, 357.9ms inference, 1.0ms postprocess per image at shape (1, 3, 736, 1280)\n",
      "\n",
      "0: 736x1280 1 person, 3 bottles, 1 chair, 1 tv, 2 refrigerators, 435.9ms\n",
      "Speed: 13.0ms preprocess, 435.9ms inference, 2.5ms postprocess per image at shape (1, 3, 736, 1280)\n",
      "\n",
      "0: 736x1280 1 person, 4 bottles, 2 chairs, 2 refrigerators, 408.2ms\n",
      "Speed: 14.0ms preprocess, 408.2ms inference, 2.0ms postprocess per image at shape (1, 3, 736, 1280)\n",
      "\n",
      "0: 736x1280 1 person, 4 bottles, 2 chairs, 2 tvs, 2 refrigerators, 397.6ms\n",
      "Speed: 15.0ms preprocess, 397.6ms inference, 2.0ms postprocess per image at shape (1, 3, 736, 1280)\n",
      "\n",
      "0: 736x1280 1 person, 4 bottles, 1 chair, 2 tvs, 2 refrigerators, 378.9ms\n",
      "Speed: 14.0ms preprocess, 378.9ms inference, 2.0ms postprocess per image at shape (1, 3, 736, 1280)\n",
      "\n",
      "0: 736x1280 1 person, 4 bottles, 2 chairs, 2 tvs, 2 refrigerators, 386.7ms\n",
      "Speed: 12.0ms preprocess, 386.7ms inference, 2.0ms postprocess per image at shape (1, 3, 736, 1280)\n",
      "\n",
      "0: 736x1280 1 person, 4 bottles, 2 chairs, 2 tvs, 2 refrigerators, 374.5ms\n",
      "Speed: 12.0ms preprocess, 374.5ms inference, 2.0ms postprocess per image at shape (1, 3, 736, 1280)\n",
      "\n",
      "0: 736x1280 1 person, 4 bottles, 1 chair, 1 tv, 2 refrigerators, 405.5ms\n",
      "Speed: 14.0ms preprocess, 405.5ms inference, 1.0ms postprocess per image at shape (1, 3, 736, 1280)\n",
      "\n",
      "0: 736x1280 1 person, 4 bottles, 1 chair, 2 tvs, 2 refrigerators, 387.3ms\n",
      "Speed: 13.0ms preprocess, 387.3ms inference, 2.0ms postprocess per image at shape (1, 3, 736, 1280)\n"
     ]
    },
    {
     "ename": "KeyboardInterrupt",
     "evalue": "",
     "output_type": "error",
     "traceback": [
      "\u001b[1;31m---------------------------------------------------------------------------\u001b[0m",
      "\u001b[1;31mKeyboardInterrupt\u001b[0m                         Traceback (most recent call last)",
      "Cell \u001b[1;32mIn[22], line 34\u001b[0m\n\u001b[0;32m     30\u001b[0m     frame \u001b[38;5;241m=\u001b[39m zone_annotator\u001b[38;5;241m.\u001b[39mannotate(scene\u001b[38;5;241m=\u001b[39mframe)\n\u001b[0;32m     32\u001b[0m     \u001b[38;5;28;01mreturn\u001b[39;00m frame\n\u001b[1;32m---> 34\u001b[0m sv\u001b[38;5;241m.\u001b[39mprocess_video(source_path\u001b[38;5;241m=\u001b[39mVideoAssets\u001b[38;5;241m.\u001b[39mGROCERY_STORE\u001b[38;5;241m.\u001b[39mvalue, target_path\u001b[38;5;241m=\u001b[39m\u001b[38;5;124mf\u001b[39m\u001b[38;5;124m\"\u001b[39m\u001b[38;5;132;01m{\u001b[39;00mHOME\u001b[38;5;132;01m}\u001b[39;00m\u001b[38;5;124m/mall-result.mp4\u001b[39m\u001b[38;5;124m\"\u001b[39m, callback\u001b[38;5;241m=\u001b[39mprocess_frame)\n\u001b[0;32m     36\u001b[0m \u001b[38;5;28;01mfrom\u001b[39;00m \u001b[38;5;21;01mIPython\u001b[39;00m \u001b[38;5;28;01mimport\u001b[39;00m display\n",
      "File \u001b[1;32mc:\\ProgramData\\anaconda3\\Lib\\site-packages\\supervision\\utils\\video.py:231\u001b[0m, in \u001b[0;36mprocess_video\u001b[1;34m(source_path, target_path, callback)\u001b[0m\n\u001b[0;32m    227\u001b[0m \u001b[38;5;28;01mfor\u001b[39;00m index, frame \u001b[38;5;129;01min\u001b[39;00m \u001b[38;5;28menumerate\u001b[39m(\n\u001b[0;32m    228\u001b[0m     get_video_frames_generator(source_path\u001b[38;5;241m=\u001b[39msource_path)\n\u001b[0;32m    229\u001b[0m ):\n\u001b[0;32m    230\u001b[0m     result_frame \u001b[38;5;241m=\u001b[39m callback(frame, index)\n\u001b[1;32m--> 231\u001b[0m     sink\u001b[38;5;241m.\u001b[39mwrite_frame(frame\u001b[38;5;241m=\u001b[39mresult_frame)\n",
      "File \u001b[1;32mc:\\ProgramData\\anaconda3\\Lib\\site-packages\\supervision\\utils\\video.py:113\u001b[0m, in \u001b[0;36mVideoSink.write_frame\u001b[1;34m(self, frame)\u001b[0m\n\u001b[0;32m    105\u001b[0m \u001b[38;5;28;01mdef\u001b[39;00m \u001b[38;5;21mwrite_frame\u001b[39m(\u001b[38;5;28mself\u001b[39m, frame: np\u001b[38;5;241m.\u001b[39mndarray):\n\u001b[0;32m    106\u001b[0m \u001b[38;5;250m    \u001b[39m\u001b[38;5;124;03m\"\"\"\u001b[39;00m\n\u001b[0;32m    107\u001b[0m \u001b[38;5;124;03m    Writes a single video frame to the target video file.\u001b[39;00m\n\u001b[0;32m    108\u001b[0m \n\u001b[1;32m   (...)\u001b[0m\n\u001b[0;32m    111\u001b[0m \u001b[38;5;124;03m            must be in BGR color format.\u001b[39;00m\n\u001b[0;32m    112\u001b[0m \u001b[38;5;124;03m    \"\"\"\u001b[39;00m\n\u001b[1;32m--> 113\u001b[0m     \u001b[38;5;28mself\u001b[39m\u001b[38;5;241m.\u001b[39m__writer\u001b[38;5;241m.\u001b[39mwrite(frame)\n",
      "\u001b[1;31mKeyboardInterrupt\u001b[0m: "
     ]
    }
   ],
   "source": [
    "# import supervision as sv\n",
    "import numpy as np\n",
    "\n",
    "# initiate polygon zone\n",
    "polygon = np.array([\n",
    "    [1725, 1550],\n",
    "    [2725, 1550],\n",
    "    [3500, 2160],\n",
    "    [1250, 2160]\n",
    "])\n",
    "video_info = sv.VideoInfo.from_video_path(VideoAssets.GROCERY_STORE.value)\n",
    "zone = sv.PolygonZone(polygon=polygon)\n",
    "\n",
    "# initiate annotators\n",
    "box_annotator = sv.BoxAnnotator(thickness=4)\n",
    "label_annotator = sv.LabelAnnotator(text_thickness=4, text_scale=2)\n",
    "zone_annotator = sv.PolygonZoneAnnotator(zone=zone, color=sv.Color.WHITE, thickness=6, text_thickness=6, text_scale=4)\n",
    "\n",
    "def process_frame(frame: np.ndarray, _) -> np.ndarray:\n",
    "    # detect\n",
    "    results = model(frame, imgsz=1280)[0]\n",
    "    detections = sv.Detections.from_ultralytics(results)\n",
    "    detections = detections[detections.class_id == 0]\n",
    "    zone.trigger(detections=detections)\n",
    "\n",
    "    # annotate\n",
    "    labels = [f\"{model.names[class_id]} {confidence:0.2f}\" for _, _, confidence, class_id, _, _ in detections]\n",
    "    frame = box_annotator.annotate(scene=frame, detections=detections)\n",
    "    frame = label_annotator.annotate(scene=frame, detections=detections, labels=labels)\n",
    "    frame = zone_annotator.annotate(scene=frame)\n",
    "\n",
    "    return frame\n",
    "\n",
    "sv.process_video(source_path=VideoAssets.GROCERY_STORE.value, target_path=f\"{HOME}/mall-result.mp4\", callback=process_frame)\n",
    "\n",
    "from IPython import display\n",
    "\n",
    "#display.clear_output()"
   ]
  }
 ],
 "metadata": {
  "kernelspec": {
   "display_name": "base",
   "language": "python",
   "name": "python3"
  },
  "language_info": {
   "codemirror_mode": {
    "name": "ipython",
    "version": 3
   },
   "file_extension": ".py",
   "mimetype": "text/x-python",
   "name": "python",
   "nbconvert_exporter": "python",
   "pygments_lexer": "ipython3",
   "version": "3.12.7"
  }
 },
 "nbformat": 4,
 "nbformat_minor": 2
}
